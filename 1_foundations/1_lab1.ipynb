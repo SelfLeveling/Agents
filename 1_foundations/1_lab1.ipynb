{
 "cells": [
  {
   "cell_type": "code",
   "execution_count": 3,
   "metadata": {},
   "outputs": [],
   "source": [
    "from dotenv import load_dotenv\n"
   ]
  },
  {
   "cell_type": "code",
   "execution_count": 4,
   "metadata": {},
   "outputs": [
    {
     "data": {
      "text/plain": [
       "True"
      ]
     },
     "execution_count": 4,
     "metadata": {},
     "output_type": "execute_result"
    }
   ],
   "source": [
    "load_dotenv(override=True)"
   ]
  },
  {
   "cell_type": "code",
   "execution_count": 5,
   "metadata": {},
   "outputs": [
    {
     "name": "stdout",
     "output_type": "stream",
     "text": [
      "OpenAI API key exists and begins with:  sk-proj-\n"
     ]
    }
   ],
   "source": [
    "import os\n",
    "openai_api_key = os.getenv(\"OPENAI_API_KEY\")\n",
    "if openai_api_key:\n",
    "    print(\"OpenAI API key exists and begins with: \", openai_api_key[:8])\n",
    "else:\n",
    "    print(\"OpenAI API key does not exist\")"
   ]
  },
  {
   "cell_type": "code",
   "execution_count": 6,
   "metadata": {},
   "outputs": [],
   "source": [
    "from openai import OpenAI"
   ]
  },
  {
   "cell_type": "code",
   "execution_count": 7,
   "metadata": {},
   "outputs": [],
   "source": [
    "openai = OpenAI()"
   ]
  },
  {
   "cell_type": "code",
   "execution_count": 8,
   "metadata": {},
   "outputs": [],
   "source": [
    "message = [{'role': \"user\", 'content': \"what is 2+2?\"}]"
   ]
  },
  {
   "cell_type": "code",
   "execution_count": 9,
   "metadata": {},
   "outputs": [],
   "source": [
    "response = openai.chat.completions.create(\n",
    "        model=\"gpt-4o-mini\",\n",
    "        messages=message)"
   ]
  },
  {
   "cell_type": "code",
   "execution_count": 10,
   "metadata": {},
   "outputs": [
    {
     "name": "stdout",
     "output_type": "stream",
     "text": [
      "2 + 2 equals 4.\n"
     ]
    }
   ],
   "source": [
    "print(response.choices[0].message.content)"
   ]
  },
  {
   "cell_type": "code",
   "execution_count": 11,
   "metadata": {},
   "outputs": [
    {
     "name": "stdout",
     "output_type": "stream",
     "text": [
      "If you have a 3-gallon jug and a 5-gallon jug, how can you measure exactly 4 gallons of water using only these two jugs?\n"
     ]
    }
   ],
   "source": [
    "question = \"Please propose a hard, challenging question to access someone's IQ. Respond only with the question\"\n",
    "messages = [{\"role\":\"user\",\"content\":question}]\n",
    "response = openai.chat.completions.create(\n",
    "        model=\"gpt-4o-mini\",\n",
    "        messages=messages)\n",
    "response = openai.chat.completions.create(\n",
    "    model=\"gpt-4o-mini\",\n",
    "    messages=messages)\n",
    "print(response.choices[0].message.content)"
   ]
  },
  {
   "cell_type": "code",
   "execution_count": 12,
   "metadata": {},
   "outputs": [
    {
     "name": "stdout",
     "output_type": "stream",
     "text": [
      "To measure exactly 4 gallons using a 3-gallon jug and a 5-gallon jug, you can follow these steps:\n",
      "\n",
      "1. **Fill the 5-gallon jug completely:** You now have 5 gallons in the 5-gallon jug and 0 gallons in the 3-gallon jug.\n",
      "   \n",
      "2. **Pour water from the 5-gallon jug into the 3-gallon jug until the 3-gallon jug is full:** This action will transfer 3 gallons from the 5-gallon jug to the 3-gallon jug, leaving you with 2 gallons in the 5-gallon jug (5 - 3 = 2).\n",
      "\n",
      "3. **Empty the 3-gallon jug:** Now you have 2 gallons in the 5-gallon jug and 0 gallons in the 3-gallon jug.\n",
      "\n",
      "4. **Pour the remaining 2 gallons from the 5-gallon jug into the 3-gallon jug:** Now, you have 0 gallons in the 5-gallon jug and 2 gallons in the 3-gallon jug.\n",
      "\n",
      "5. **Fill the 5-gallon jug completely again:** You now have 5 gallons in the 5-gallon jug and 2 gallons in the 3-gallon jug.\n",
      "\n",
      "6. **Pour water from the 5-gallon jug into the 3-gallon jug until the 3-gallon jug is full:** Since the 3-gallon jug already has 2 gallons, it can only take 1 more gallon to be full (3 - 2 = 1). Pouring 1 gallon from the 5-gallon jug into the 3-gallon jug leaves you with exactly 4 gallons in the 5-gallon jug (5 - 1 = 4).\n",
      "\n",
      "Now, you have exactly 4 gallons in the 5-gallon jug.\n"
     ]
    }
   ],
   "source": [
    "answer = response.choices[0].message.content\n",
    "messages = [{\"role\":\"user\",\"content\":answer}]\n",
    "response = openai.chat.completions.create(\n",
    "        model=\"gpt-4o-mini\",\n",
    "        messages=messages)\n",
    "response = openai.chat.completions.create(\n",
    "    model=\"gpt-4o-mini\",\n",
    "    messages=messages)\n",
    "print(response.choices[0].message.content)"
   ]
  },
  {
   "cell_type": "code",
   "execution_count": 13,
   "metadata": {},
   "outputs": [
    {
     "data": {
      "text/markdown": [
       "To measure exactly 4 gallons using a 3-gallon jug and a 5-gallon jug, you can follow these steps:\n",
       "\n",
       "1. **Fill the 5-gallon jug completely:** You now have 5 gallons in the 5-gallon jug and 0 gallons in the 3-gallon jug.\n",
       "   \n",
       "2. **Pour water from the 5-gallon jug into the 3-gallon jug until the 3-gallon jug is full:** This action will transfer 3 gallons from the 5-gallon jug to the 3-gallon jug, leaving you with 2 gallons in the 5-gallon jug (5 - 3 = 2).\n",
       "\n",
       "3. **Empty the 3-gallon jug:** Now you have 2 gallons in the 5-gallon jug and 0 gallons in the 3-gallon jug.\n",
       "\n",
       "4. **Pour the remaining 2 gallons from the 5-gallon jug into the 3-gallon jug:** Now, you have 0 gallons in the 5-gallon jug and 2 gallons in the 3-gallon jug.\n",
       "\n",
       "5. **Fill the 5-gallon jug completely again:** You now have 5 gallons in the 5-gallon jug and 2 gallons in the 3-gallon jug.\n",
       "\n",
       "6. **Pour water from the 5-gallon jug into the 3-gallon jug until the 3-gallon jug is full:** Since the 3-gallon jug already has 2 gallons, it can only take 1 more gallon to be full (3 - 2 = 1). Pouring 1 gallon from the 5-gallon jug into the 3-gallon jug leaves you with exactly 4 gallons in the 5-gallon jug (5 - 1 = 4).\n",
       "\n",
       "Now, you have exactly 4 gallons in the 5-gallon jug."
      ],
      "text/plain": [
       "<IPython.core.display.Markdown object>"
      ]
     },
     "metadata": {},
     "output_type": "display_data"
    }
   ],
   "source": [
    "from IPython.display import Markdown\n",
    "\n",
    "display(Markdown(response.choices[0].message.content))"
   ]
  },
  {
   "cell_type": "markdown",
   "metadata": {},
   "source": [
    "Day 1 Excercise"
   ]
  },
  {
   "cell_type": "code",
   "execution_count": 14,
   "metadata": {},
   "outputs": [
    {
     "name": "stdout",
     "output_type": "stream",
     "text": [
      "**Personalized Healthcare Management Platform**\n",
      "\n",
      "Explore the development of an Agentic AI-driven platform tailored for personalized healthcare management. This platform would leverage AI to gather and analyze patient data, lifestyle information, genetic predispositions, and real-time health metrics from wearable devices. By employing advanced algorithms, the platform can provide users with personalized health recommendations, medication reminders, and wellness plans (including diet and exercise regimens) that adapt over time based on the user's progress and changing health status.\n",
      "\n",
      "Additionally, the platform could utilize Agentic AI for proactive health monitoring, alerting users and healthcare providers to potential issues before they escalate. With increasing focus on personalized medicine and preventative healthcare, this business idea addresses a growing need in the healthcare industry, improving patient outcomes while potentially reducing overall healthcare costs.\n"
     ]
    }
   ],
   "source": [
    "# 1. Explore a business area where it is worth exploring Agentic AI\n",
    "messages = [{\"role\":\"user\",\"content\":\"Suggest a business area where it is worth exploring Agentic AI, Provide only one best business idea\"}]\n",
    "\n",
    "response = openai.chat.completions.create(\n",
    "    model=\"gpt-4o-mini\",\n",
    "    messages=messages)\n",
    "\n",
    "business_idea = response.choices[0].message.content\n",
    "\n",
    "print(business_idea)"
   ]
  },
  {
   "cell_type": "code",
   "execution_count": 15,
   "metadata": {},
   "outputs": [
    {
     "name": "stdout",
     "output_type": "stream",
     "text": [
      "### Pain Point: Fragmented Patient Data Integration\n",
      "\n",
      "One significant pain point in the realm of personalized healthcare management is the fragmented nature of patient data across various sources. Patients often have health information spread across different healthcare providers, electronic health records (EHR) systems, wearable devices, and personal health applications. This fragmentation can hinder the effectiveness of personalized healthcare solutions due to several challenges:\n",
      "\n",
      "1. **Data Silos**: Health data is frequently stored in silos, making it difficult for healthcare providers and even patients to access a comprehensive view of an individual's health. Each provider may have unique systems, leading to inconsistencies and gaps in the patient's health history.\n",
      "\n",
      "2. **Inconsistent Data Quality**: The quality of data collected can vary significantly between sources. For example, self-reported data from patient apps may lack the accuracy of clinical measurements taken by healthcare professionals. This inconsistency can lead to erroneous health recommendations.\n",
      "\n",
      "3. **Patient Engagement**: Many patients struggle with managing their health information across multiple platforms. They often find it overwhelming to keep track of their data, which can result in poor adherence to personalized health plans and recommendations.\n",
      "\n",
      "4. **Delayed Interventions**: Due to fragmented data and poor integration, potential health issues might go unnoticed until they become critical. This delay can prevent timely interventions that could have improved health outcomes.\n",
      "\n",
      "#### Ripe for an Agentic Solution\n",
      "\n",
      "An Agentic AI-driven solution could effectively address these challenges by:\n",
      "\n",
      "- **Seamless Data Integration**: The platform could aggregate health data from different EHRs, wearable devices, and personal health applications into a single, coherent profile for each patient. Utilizing APIs and data interoperability standards (like FHIR), the platform could facilitate real-time data sharing between disparate sources.\n",
      "\n",
      "- **Enhanced Data Analytics**: By using advanced analytics, the AI could assess the quality and relevance of different data inputs, ensuring that the most accurate and actionable insights are provided to users and their healthcare providers.\n",
      "\n",
      "- **User-Centric Dashboard**: The platform could feature an intuitive user interface that allows patients to easily view and understand their health data, receive personalized recommendations, and track their progress over time. Gamification elements could enhance engagement and encourage adherence to health plans.\n",
      "\n",
      "- **Proactive Alerts**: Utilizing predictive analytics, the platform could analyze aggregated data to identify patterns that suggest potential health issues, alerting both users and their healthcare providers before problems escalate.\n",
      "\n",
      "By addressing the challenges of fragmented patient data integration, an Agentic AI-driven personalized healthcare management platform could significantly improve patient engagement, adherence, and overall health outcomes while enhancing the efficiency of healthcare systems.\n"
     ]
    }
   ],
   "source": [
    "messages = [{\"role\":\"user\",\"content\":f\"present a pain-point in that mentioned in the business_idea - something challenging that might be ripe for an Agentic solution.business_idea: {business_idea}\"}]\n",
    "\n",
    "response = openai.chat.completions.create(\n",
    "    model=\"gpt-4o-mini\",\n",
    "    messages=messages)\n",
    "\n",
    "pain_point = response.choices[0].message.content\n",
    "\n",
    "print(pain_point)"
   ]
  },
  {
   "cell_type": "code",
   "execution_count": 16,
   "metadata": {},
   "outputs": [
    {
     "name": "stdout",
     "output_type": "stream",
     "text": [
      "### Agentic AI Solution for Fragmented Patient Data Integration\n",
      "\n",
      "#### Solution Overview: HealthConnect AI\n",
      "\n",
      "**HealthConnect AI** is a comprehensive platform designed to facilitate seamless integration and management of patient data from various sources, enhancing personalized healthcare delivery. By leveraging advanced technologies such as artificial intelligence, machine learning, and data interoperability standards, HealthConnect AI addresses the key challenges associated with fragmented patient data.\n",
      "\n",
      "#### Key Features:\n",
      "\n",
      "1. **Comprehensive Data Aggregation**:\n",
      "   - **Interoperability Framework**: Utilize FHIR (Fast Healthcare Interoperability Resources) and HL7 protocols to establish a robust ecosystem that connects EHRs, wearable devices, and personal health applications.\n",
      "   - **Multi-source Data Integration**: Enable healthcare providers and patients to upload, share, and access health data across various platforms through a central dashboard.\n",
      "\n",
      "2. **Quality Assurance and Normalization**:\n",
      "   - **AI-Driven Data Assessment**: Implement machine learning algorithms to evaluate the quality and accuracy of datasets. The system will flag low-quality or inconsistent data and prioritize reliable sources for analytics.\n",
      "   - **Data Normalization Protocols**: Standardize different data formats from various providers, ensuring consistent interpretation and presentation of health information.\n",
      "\n",
      "3. **Patient-Centric Dashboard**:\n",
      "   - **Intuitive Interface**: Develop a user-friendly dashboard that visualizes all health data in one place, allowing patients to track metrics such as vitals, medication adherence, and lifestyle changes.\n",
      "   - **Personalized Insights**: Offer customized health recommendations based on real-time data analytics, lab results, and lifestyle habits, all tailored to individual patient needs.\n",
      "\n",
      "4. **Proactive Health Monitoring**:\n",
      "   - **AI-Powered Predictive Analytics**: Utilize predictive modeling to identify trends and potential health risks in patient data. Alerts will be triggered for both patients and healthcare practitioners when concerning patterns emerge (e.g., variations in vital signs or missed medications).\n",
      "   - **Chronic Disease Management**: Focus on specific conditions (such as diabetes, heart disease, etc.) and provide proactive support through alerts, reminders, and educational resources tailored to the patient's condition.\n",
      "\n",
      "5. **Enhanced Patient Engagement**:\n",
      "   - **Gamification Elements**: Incorporate reward systems, progress tracking, and health challenges within the application to encourage user involvement and sustained engagement with their health management.\n",
      "   - **Communication Tools**: Enable secure messaging and telehealth capabilities within the platform to foster real-time communication between patients and their healthcare teams.\n",
      "\n",
      "6. **Integration with AI Advisors**:\n",
      "   - **Virtual Health Coach**: Introduce an AI-powered virtual assistant that can provide real-time advice, reminders, and answer patient queries regarding their health based on their aggregated data.\n",
      "   - **Shared Decision-Making**: Equip patients and providers with data-driven insights to facilitate collaborative decision-making regarding treatment plans and lifestyle changes.\n",
      "\n",
      "7. **Privacy and Security Features**:\n",
      "   - **Robust Security Protocols**: Implement cutting-edge security measures, including end-to-end encryption, to protect sensitive health information and ensure compliance with regulations like HIPAA and GDPR.\n",
      "   - **Patient Control Over Data**: Allow patients to manage their data permissions, giving them control over what information they share with providers and other services.\n",
      "\n",
      "#### Implementation Strategy:\n",
      "\n",
      "1. **Pilot Programs**: Collaborate with healthcare institutions to roll out pilot programs targeting specific patient populations (e.g., those with chronic illnesses). Gather user feedback to refine features and usability.\n",
      "  \n",
      "2. **Partnerships with EHR Providers**: Work with established EHR systems to ease integration processes and leverage existing infrastructure for data collection and sharing.\n",
      "\n",
      "3. **Education and Training**: Provide resources and training for healthcare providers and patients on utilizing the platform effectively, emphasizing the importance of integrated health data management.\n",
      "\n",
      "4. **Continuous Improvement**: Utilize an iterative development approach to regularly enhance the platform's features based on user feedback and emerging healthcare trends.\n",
      "\n",
      "#### Expected Outcomes:\n",
      "\n",
      "- **Improved Health Outcomes**: With a holistic view of patient health, providers can offer timely and effective interventions, leading to better clinical results and reduced hospitalizations.\n",
      "- **Increased Patient Engagement**: A user-centric approach will motivate patients to take charge of their health, fostering adherence to personalized care plans.\n",
      "- **Streamlined Healthcare Processes**: By reducing data silos and enhancing communication, healthcare systems can operate more efficiently, allowing providers to focus on patient care rather than administrative burdens.\n",
      "\n",
      "In summary, HealthConnect AI provides a robust, agentic solution to the fragmented patient data integration challenge, paving the way for a new era of personalized healthcare management that truly empowers patients and providers alike.\n"
     ]
    }
   ],
   "source": [
    "messages = [{\"role\":\"user\",\"content\":f\"Propose a Agentic AI solution to the pain-point. pain-point: {pain_point}\"}]\n",
    "\n",
    "response = openai.chat.completions.create(\n",
    "    model=\"gpt-4o-mini\",\n",
    "    messages=messages)\n",
    "\n",
    "solution = response.choices[0].message.content\n",
    "\n",
    "print(solution)"
   ]
  }
 ],
 "metadata": {
  "kernelspec": {
   "display_name": ".venv",
   "language": "python",
   "name": "python3"
  },
  "language_info": {
   "codemirror_mode": {
    "name": "ipython",
    "version": 3
   },
   "file_extension": ".py",
   "mimetype": "text/x-python",
   "name": "python",
   "nbconvert_exporter": "python",
   "pygments_lexer": "ipython3",
   "version": "3.12.11"
  }
 },
 "nbformat": 4,
 "nbformat_minor": 2
}
