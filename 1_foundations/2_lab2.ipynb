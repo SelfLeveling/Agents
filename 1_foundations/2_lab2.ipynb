{
 "cells": [
  {
   "cell_type": "code",
   "execution_count": 18,
   "metadata": {},
   "outputs": [],
   "source": [
    "import os\n",
    "from openai import OpenAI\n",
    "from dotenv import load_dotenv\n",
    "import json\n",
    "from IPython.display import Markdown, display"
   ]
  },
  {
   "cell_type": "code",
   "execution_count": 19,
   "metadata": {},
   "outputs": [
    {
     "data": {
      "text/plain": [
       "True"
      ]
     },
     "execution_count": 19,
     "metadata": {},
     "output_type": "execute_result"
    }
   ],
   "source": [
    "load_dotenv(override=True)"
   ]
  },
  {
   "cell_type": "code",
   "execution_count": 20,
   "metadata": {},
   "outputs": [],
   "source": [
    "openai_api_key = os.getenv(\"OPENAI_API_KEY\")\n",
    "google_api_key = os.getenv(\"GEMINI_API_KEY\")"
   ]
  },
  {
   "cell_type": "code",
   "execution_count": 21,
   "metadata": {},
   "outputs": [],
   "source": [
    "request = \"Please come up with a challenging, nuanced question that I can ask a number of LLMs to evaluate their intelligence. \"\n",
    "request += \"Answer only with the question, no explanation.\"\n",
    "messages = [{\"role\":\"user\",\"content\":request}]\n"
   ]
  },
  {
   "cell_type": "code",
   "execution_count": 22,
   "metadata": {},
   "outputs": [
    {
     "name": "stdout",
     "output_type": "stream",
     "text": [
      "If you could design a new moral framework that prioritizes both individual autonomy and societal well-being, what principles would you include, and how would you address potential conflicts between personal freedom and the common good?\n"
     ]
    }
   ],
   "source": [
    "openai = OpenAI()\n",
    "response = openai.chat.completions.create(\n",
    "    model=\"gpt-4o-mini\",\n",
    "    messages=messages\n",
    "    )\n",
    "question = response.choices[0].message.content\n",
    "print(question)"
   ]
  },
  {
   "cell_type": "code",
   "execution_count": 23,
   "metadata": {},
   "outputs": [],
   "source": [
    "compatitors = []\n",
    "answers = []\n",
    "messages = [{\"role\":\"user\",\"content\":question}]"
   ]
  },
  {
   "cell_type": "code",
   "execution_count": 24,
   "metadata": {},
   "outputs": [
    {
     "data": {
      "text/markdown": [
       "Designing a new moral framework that balances individual autonomy with societal well-being involves carefully considering principles that can harmonize personal rights with the collective interests of a community. Here are some key principles that could be included:\n",
       "\n",
       "### 1. **Informed Consent and Autonomy**\n",
       "   - **Principle**: Individuals have the right to make informed choices about their lives, provided they are aware of the consequences and their choices do not harm others.\n",
       "   - **Implementation**: Promote education and access to information so that individuals can make well-informed decisions.\n",
       "\n",
       "### 2. **Harm Principle**\n",
       "   - **Principle**: The actions of individuals should be limited only to prevent harm to others. Personal freedom is paramount as long as it does not infringe on the freedom and well-being of others.\n",
       "   - **Implementation**: Establish clear definitions of harm and implement systems to resolve disputes when harm is perceived, using mediation and dialogue.\n",
       "\n",
       "### 3. **Interdependence and Community Responsibility**\n",
       "   - **Principle**: Acknowledge that individuals are part of a larger community and that their actions can have wide-reaching impacts on societal well-being. Encourage a sense of responsibility to contribute positively to the community.\n",
       "   - **Implementation**: Foster communal activities and social programs that engage citizens in collective well-being while respecting individual autonomy.\n",
       "\n",
       "### 4. **Equity and Fairness**\n",
       "   - **Principle**: Ensure that all individuals have equal opportunities to exercise their rights and freedoms. Address systemic inequalities that might prevent some individuals from fully participating in society.\n",
       "   - **Implementation**: Create policies aimed at reducing disparities in education, healthcare, and economic opportunity, thus enabling fuller exercise of autonomy for all.\n",
       "\n",
       "### 5. **Minimization of Coercion**\n",
       "   - **Principle**: Minimize the use of coercion, and advocate for non-coercive methods to encourage compliance with societal norms and expectations. Individuals should be consulted and involved in the creation of rules affecting them.\n",
       "   - **Implementation**: Develop participatory governance structures that allow for input from diverse community members on laws and regulations.\n",
       "\n",
       "### 6. **Dynamic Balance of Rights and Responsibilities**\n",
       "   - **Principle**: Recognize that rights come with responsibilities; individuals should understand the implications of their choices on both themselves and the community.\n",
       "   - **Implementation**: Encourage civic education and discussion around the relationship between personal freedom and societal duties.\n",
       "\n",
       "### 7. **Ecological and Future Considerations**\n",
       "   - **Principle**: Individual choices should consider their impact on societal well-being and the environment, highlighting a responsibility not just to present society but to future generations.\n",
       "   - **Implementation**: Integrate sustainable practices into community decision-making, encouraging individuals to consider the long-term consequences of their actions.\n",
       "\n",
       "### Addressing Conflicts\n",
       "\n",
       "To address potential conflicts between personal freedom and the common good, the framework could employ the following strategies:\n",
       "\n",
       "1. **Dialogue and Deliberation**: Establish forums for community dialogue where individuals can discuss the implications of their choices, fostering understanding and compromise. This can help to reach consensus on action that respects both autonomy and collective welfare.\n",
       "\n",
       "2. **Mediation and Conflict Resolution**: Implement mediation processes for disputes that arise between individual and communal interests, allowing for collaborative solutions that satisfy both sides wherever possible.\n",
       "\n",
       "3. **Adaptive Policies**: Adopt flexible policies that can be revised in light of changing social conditions and needs, promoting accountability and responsiveness to emerging conflicts between autonomy and societal well-being.\n",
       "\n",
       "4. **Transparency and Accountability**: Encourage transparent decision-making processes that hold individuals and institutions accountable for their actions, fostering trust and cooperation within the community.\n",
       "\n",
       "5. **Empowerment Through Education**: Equip citizens with the skills necessary to navigate conflicts effectively, emphasizing critical thinking, negotiation, and respect for differing perspectives.\n",
       "\n",
       "By incorporating these principles and strategies, the proposed moral framework can work to create a society that respects individual autonomy while also prioritizing the common good, leading to a more harmonious and equitable coexistence."
      ],
      "text/plain": [
       "<IPython.core.display.Markdown object>"
      ]
     },
     "metadata": {},
     "output_type": "display_data"
    }
   ],
   "source": [
    "model_name = \"gpt-4o-mini\"\n",
    "\n",
    "response = openai.chat.completions.create(\n",
    "    model=model_name,\n",
    "    messages=messages)\n",
    "\n",
    "answer = response.choices[0].message.content\n",
    "\n",
    "display(Markdown(answer))\n",
    "\n",
    "compatitors.append(model_name)\n",
    "answers.append(answer)\n"
   ]
  },
  {
   "cell_type": "code",
   "execution_count": 25,
   "metadata": {},
   "outputs": [
    {
     "data": {
      "text/markdown": [
       "Okay, this is a fascinating and complex thought experiment! Designing a new moral framework that balances individual autonomy and societal well-being is a significant undertaking, as these values can often clash. Here's my attempt, outlining the core principles and conflict-resolution mechanisms:\n",
       "\n",
       "**Name:**  *Concentric Flourishing* (This name reflects the idea of individual flourishing as a foundation that contributes to a wider, societal flourishing, like expanding ripples in a pond).\n",
       "\n",
       "**Core Principles:**\n",
       "\n",
       "1.  **Presumption of Autonomy:** Every individual is presumed to have the right to make their own choices, within reasonable limits.  This encompasses freedom of thought, expression, association, movement, and control over one's body and property. The burden of proof lies on those who seek to restrict this autonomy.  This principle is not absolute, but serves as a strong starting point.\n",
       "\n",
       "2.  **Universal Basic Dignity:**  Every individual is inherently worthy of respect and consideration, regardless of their background, beliefs, abilities, or contributions. This includes the right to basic necessities like food, shelter, healthcare, and education, which are considered fundamental for exercising autonomy.  This is not simply charity, but a recognition of inherent worth.\n",
       "\n",
       "3.  **Reciprocity & Responsibility:** Autonomy comes with the responsibility to consider the impact of one's actions on others and on the environment. This is not simply a negative duty not to harm, but a positive duty to contribute to the common good in a way that is proportionate to one's abilities and resources. This acknowledges that individual choices have collective consequences.\n",
       "\n",
       "4.  **Informed Consent & Transparency:**  Decisions affecting the collective should be made with maximum transparency and with the informed consent of those affected whenever possible. This includes access to accurate information, opportunities for deliberation, and mechanisms for participation in decision-making processes. This strengthens legitimacy and promotes trust.\n",
       "\n",
       "5.  **Sustainability & Stewardship:**  The current generation has a responsibility to safeguard the well-being of future generations and to protect the environment. This includes sustainable resource management, mitigating climate change, and preserving biodiversity. This extends the scope of moral consideration beyond the present.\n",
       "\n",
       "6.  **Cultivation of Empathy & Compassion:**  The framework encourages the development of empathy and compassion towards others, including those who are different from ourselves. This involves actively seeking to understand different perspectives, challenging prejudice and discrimination, and promoting a culture of inclusivity. This reinforces the bonds of community.\n",
       "\n",
       "7.  **Proportionality & Subsidiarity:** Any limitations on individual autonomy in the name of the common good must be proportionate to the threat posed and must be implemented at the lowest possible level of governance.  Centralized authority should only be invoked when necessary to address issues that cannot be effectively resolved at the local level. This minimizes unnecessary restrictions on freedom.\n",
       "\n",
       "8.  **Continuous Dialogue & Adaptation:** Moral frameworks should not be static. This framework promotes ongoing dialogue, critical reflection, and adaptation in light of new information and evolving societal needs. This ensures that the framework remains relevant and responsive to changing circumstances.\n",
       "\n",
       "**Addressing Conflicts Between Autonomy and the Common Good:**\n",
       "\n",
       "The inevitable conflicts between individual autonomy and societal well-being would be addressed through a multi-layered approach:\n",
       "\n",
       "1.  **Prioritization of Harm Prevention:**  When a clear and present danger to others is at stake, limitations on individual autonomy are justifiable, but only to the extent necessary to prevent the harm.  The burden of proof lies on those seeking to restrict freedom, and the restrictions must be narrowly tailored.\n",
       "\n",
       "2.  **Tiered Regulation:** Different activities would be subject to different levels of regulation, based on their potential impact on others.  For example, actions that pose a high risk of harm to others (e.g., polluting a river) would be subject to stricter regulation than actions that have minimal impact (e.g., choosing what to read).\n",
       "\n",
       "3.  **Community Engagement & Deliberation:**  When conflicts arise, open and inclusive dialogue would be essential.  This involves creating spaces for people to share their perspectives, to understand the concerns of others, and to work collaboratively towards solutions that respect both individual autonomy and the common good.  This could involve town hall meetings, online forums, or citizen assemblies.\n",
       "\n",
       "4.  **Compromise and Trade-offs:** Recognizing that there are often no easy answers, the framework acknowledges the need for compromise and trade-offs.  This involves finding solutions that strike a balance between competing values and that minimize harm to all parties involved.\n",
       "\n",
       "5.  **Restorative Justice:**  When harm occurs, the focus should be on repairing the damage and restoring relationships, rather than simply punishing offenders. This involves holding individuals accountable for their actions, while also providing opportunities for them to make amends and to reintegrate into the community.\n",
       "\n",
       "6.  **Legal & Constitutional Safeguards:**  Fundamental rights and freedoms would be enshrined in law and protected by an independent judiciary.  This would provide a check on government power and ensure that limitations on individual autonomy are subject to judicial review.\n",
       "\n",
       "**Example Scenario: Vaccine Mandates**\n",
       "\n",
       "Let's say a highly contagious disease is spreading.\n",
       "\n",
       "*   **Autonomy:** Individuals have a right to bodily autonomy and to make their own healthcare decisions.\n",
       "*   **Common Good:** A widespread outbreak threatens public health, straining resources and potentially leading to widespread illness and death.\n",
       "\n",
       "How would Concentric Flourishing address this?\n",
       "\n",
       "1.  **Transparency:**  Government provides clear, accurate, and accessible information about the disease, the vaccine, and the potential risks and benefits.\n",
       "2.  **Dialogue:**  Public forums are held to discuss concerns and address misinformation.\n",
       "3.  **Tiered Approach:**  A vaccine mandate might be considered for healthcare workers and other high-risk groups, while incentives (rather than mandates) are used for the general population.\n",
       "4.  **Exemptions:**  Medical and religious exemptions are granted, but are narrowly defined and subject to verification.\n",
       "5.  **Compensation:**  A system is established to compensate individuals who experience serious adverse reactions to the vaccine.\n",
       "6.  **Focus on Education:** Public health initiatives would focus on educating the public about the importance of vaccination for protecting themselves and others.\n",
       "\n",
       "**Challenges & Considerations:**\n",
       "\n",
       "*   **Implementation:** Translating these principles into concrete policies and practices would be a complex and challenging task.\n",
       "*   **Cultural Context:** The specific application of these principles would need to be adapted to different cultural contexts.\n",
       "*   **Power Dynamics:** Ensuring that all voices are heard and that marginalized groups are not disproportionately affected by restrictions on autonomy would require careful attention.\n",
       "*   **Enforcement:**  Striking a balance between enforcing regulations and respecting individual liberties would be a constant challenge.\n",
       "*   **Human Nature:** The framework relies on a degree of rationality, empathy, and willingness to cooperate, which may not always be present.\n",
       "\n",
       "**In Conclusion:**\n",
       "\n",
       "Concentric Flourishing is not a perfect solution, but it offers a framework for navigating the complex relationship between individual autonomy and societal well-being. By prioritizing both, fostering dialogue, and adapting to changing circumstances, it aims to create a society where individuals can flourish while contributing to the common good. It acknowledges that perfect balance is often unattainable, but striving for that balance is the key to a just and sustainable society.\n"
      ],
      "text/plain": [
       "<IPython.core.display.Markdown object>"
      ]
     },
     "metadata": {},
     "output_type": "display_data"
    }
   ],
   "source": [
    "gemini = OpenAI(api_key=google_api_key, base_url=\"https://generativelanguage.googleapis.com/v1beta/openai/\")\n",
    "\n",
    "model_name = \"gemini-2.0-flash\"\n",
    "\n",
    "response = gemini.chat.completions.create(model=model_name, messages=messages)\n",
    "\n",
    "answer = response.choices[0].message.content\n",
    "\n",
    "display(Markdown(answer))\n",
    "\n",
    "compatitors.append(model_name)\n",
    "answers.append(answer)"
   ]
  },
  {
   "cell_type": "code",
   "execution_count": 26,
   "metadata": {},
   "outputs": [
    {
     "name": "stdout",
     "output_type": "stream",
     "text": [
      "['gpt-4o-mini', 'gemini-2.0-flash']\n",
      "['Designing a new moral framework that balances individual autonomy with societal well-being involves carefully considering principles that can harmonize personal rights with the collective interests of a community. Here are some key principles that could be included:\\n\\n### 1. **Informed Consent and Autonomy**\\n   - **Principle**: Individuals have the right to make informed choices about their lives, provided they are aware of the consequences and their choices do not harm others.\\n   - **Implementation**: Promote education and access to information so that individuals can make well-informed decisions.\\n\\n### 2. **Harm Principle**\\n   - **Principle**: The actions of individuals should be limited only to prevent harm to others. Personal freedom is paramount as long as it does not infringe on the freedom and well-being of others.\\n   - **Implementation**: Establish clear definitions of harm and implement systems to resolve disputes when harm is perceived, using mediation and dialogue.\\n\\n### 3. **Interdependence and Community Responsibility**\\n   - **Principle**: Acknowledge that individuals are part of a larger community and that their actions can have wide-reaching impacts on societal well-being. Encourage a sense of responsibility to contribute positively to the community.\\n   - **Implementation**: Foster communal activities and social programs that engage citizens in collective well-being while respecting individual autonomy.\\n\\n### 4. **Equity and Fairness**\\n   - **Principle**: Ensure that all individuals have equal opportunities to exercise their rights and freedoms. Address systemic inequalities that might prevent some individuals from fully participating in society.\\n   - **Implementation**: Create policies aimed at reducing disparities in education, healthcare, and economic opportunity, thus enabling fuller exercise of autonomy for all.\\n\\n### 5. **Minimization of Coercion**\\n   - **Principle**: Minimize the use of coercion, and advocate for non-coercive methods to encourage compliance with societal norms and expectations. Individuals should be consulted and involved in the creation of rules affecting them.\\n   - **Implementation**: Develop participatory governance structures that allow for input from diverse community members on laws and regulations.\\n\\n### 6. **Dynamic Balance of Rights and Responsibilities**\\n   - **Principle**: Recognize that rights come with responsibilities; individuals should understand the implications of their choices on both themselves and the community.\\n   - **Implementation**: Encourage civic education and discussion around the relationship between personal freedom and societal duties.\\n\\n### 7. **Ecological and Future Considerations**\\n   - **Principle**: Individual choices should consider their impact on societal well-being and the environment, highlighting a responsibility not just to present society but to future generations.\\n   - **Implementation**: Integrate sustainable practices into community decision-making, encouraging individuals to consider the long-term consequences of their actions.\\n\\n### Addressing Conflicts\\n\\nTo address potential conflicts between personal freedom and the common good, the framework could employ the following strategies:\\n\\n1. **Dialogue and Deliberation**: Establish forums for community dialogue where individuals can discuss the implications of their choices, fostering understanding and compromise. This can help to reach consensus on action that respects both autonomy and collective welfare.\\n\\n2. **Mediation and Conflict Resolution**: Implement mediation processes for disputes that arise between individual and communal interests, allowing for collaborative solutions that satisfy both sides wherever possible.\\n\\n3. **Adaptive Policies**: Adopt flexible policies that can be revised in light of changing social conditions and needs, promoting accountability and responsiveness to emerging conflicts between autonomy and societal well-being.\\n\\n4. **Transparency and Accountability**: Encourage transparent decision-making processes that hold individuals and institutions accountable for their actions, fostering trust and cooperation within the community.\\n\\n5. **Empowerment Through Education**: Equip citizens with the skills necessary to navigate conflicts effectively, emphasizing critical thinking, negotiation, and respect for differing perspectives.\\n\\nBy incorporating these principles and strategies, the proposed moral framework can work to create a society that respects individual autonomy while also prioritizing the common good, leading to a more harmonious and equitable coexistence.', \"Okay, this is a fascinating and complex thought experiment! Designing a new moral framework that balances individual autonomy and societal well-being is a significant undertaking, as these values can often clash. Here's my attempt, outlining the core principles and conflict-resolution mechanisms:\\n\\n**Name:**  *Concentric Flourishing* (This name reflects the idea of individual flourishing as a foundation that contributes to a wider, societal flourishing, like expanding ripples in a pond).\\n\\n**Core Principles:**\\n\\n1.  **Presumption of Autonomy:** Every individual is presumed to have the right to make their own choices, within reasonable limits.  This encompasses freedom of thought, expression, association, movement, and control over one's body and property. The burden of proof lies on those who seek to restrict this autonomy.  This principle is not absolute, but serves as a strong starting point.\\n\\n2.  **Universal Basic Dignity:**  Every individual is inherently worthy of respect and consideration, regardless of their background, beliefs, abilities, or contributions. This includes the right to basic necessities like food, shelter, healthcare, and education, which are considered fundamental for exercising autonomy.  This is not simply charity, but a recognition of inherent worth.\\n\\n3.  **Reciprocity & Responsibility:** Autonomy comes with the responsibility to consider the impact of one's actions on others and on the environment. This is not simply a negative duty not to harm, but a positive duty to contribute to the common good in a way that is proportionate to one's abilities and resources. This acknowledges that individual choices have collective consequences.\\n\\n4.  **Informed Consent & Transparency:**  Decisions affecting the collective should be made with maximum transparency and with the informed consent of those affected whenever possible. This includes access to accurate information, opportunities for deliberation, and mechanisms for participation in decision-making processes. This strengthens legitimacy and promotes trust.\\n\\n5.  **Sustainability & Stewardship:**  The current generation has a responsibility to safeguard the well-being of future generations and to protect the environment. This includes sustainable resource management, mitigating climate change, and preserving biodiversity. This extends the scope of moral consideration beyond the present.\\n\\n6.  **Cultivation of Empathy & Compassion:**  The framework encourages the development of empathy and compassion towards others, including those who are different from ourselves. This involves actively seeking to understand different perspectives, challenging prejudice and discrimination, and promoting a culture of inclusivity. This reinforces the bonds of community.\\n\\n7.  **Proportionality & Subsidiarity:** Any limitations on individual autonomy in the name of the common good must be proportionate to the threat posed and must be implemented at the lowest possible level of governance.  Centralized authority should only be invoked when necessary to address issues that cannot be effectively resolved at the local level. This minimizes unnecessary restrictions on freedom.\\n\\n8.  **Continuous Dialogue & Adaptation:** Moral frameworks should not be static. This framework promotes ongoing dialogue, critical reflection, and adaptation in light of new information and evolving societal needs. This ensures that the framework remains relevant and responsive to changing circumstances.\\n\\n**Addressing Conflicts Between Autonomy and the Common Good:**\\n\\nThe inevitable conflicts between individual autonomy and societal well-being would be addressed through a multi-layered approach:\\n\\n1.  **Prioritization of Harm Prevention:**  When a clear and present danger to others is at stake, limitations on individual autonomy are justifiable, but only to the extent necessary to prevent the harm.  The burden of proof lies on those seeking to restrict freedom, and the restrictions must be narrowly tailored.\\n\\n2.  **Tiered Regulation:** Different activities would be subject to different levels of regulation, based on their potential impact on others.  For example, actions that pose a high risk of harm to others (e.g., polluting a river) would be subject to stricter regulation than actions that have minimal impact (e.g., choosing what to read).\\n\\n3.  **Community Engagement & Deliberation:**  When conflicts arise, open and inclusive dialogue would be essential.  This involves creating spaces for people to share their perspectives, to understand the concerns of others, and to work collaboratively towards solutions that respect both individual autonomy and the common good.  This could involve town hall meetings, online forums, or citizen assemblies.\\n\\n4.  **Compromise and Trade-offs:** Recognizing that there are often no easy answers, the framework acknowledges the need for compromise and trade-offs.  This involves finding solutions that strike a balance between competing values and that minimize harm to all parties involved.\\n\\n5.  **Restorative Justice:**  When harm occurs, the focus should be on repairing the damage and restoring relationships, rather than simply punishing offenders. This involves holding individuals accountable for their actions, while also providing opportunities for them to make amends and to reintegrate into the community.\\n\\n6.  **Legal & Constitutional Safeguards:**  Fundamental rights and freedoms would be enshrined in law and protected by an independent judiciary.  This would provide a check on government power and ensure that limitations on individual autonomy are subject to judicial review.\\n\\n**Example Scenario: Vaccine Mandates**\\n\\nLet's say a highly contagious disease is spreading.\\n\\n*   **Autonomy:** Individuals have a right to bodily autonomy and to make their own healthcare decisions.\\n*   **Common Good:** A widespread outbreak threatens public health, straining resources and potentially leading to widespread illness and death.\\n\\nHow would Concentric Flourishing address this?\\n\\n1.  **Transparency:**  Government provides clear, accurate, and accessible information about the disease, the vaccine, and the potential risks and benefits.\\n2.  **Dialogue:**  Public forums are held to discuss concerns and address misinformation.\\n3.  **Tiered Approach:**  A vaccine mandate might be considered for healthcare workers and other high-risk groups, while incentives (rather than mandates) are used for the general population.\\n4.  **Exemptions:**  Medical and religious exemptions are granted, but are narrowly defined and subject to verification.\\n5.  **Compensation:**  A system is established to compensate individuals who experience serious adverse reactions to the vaccine.\\n6.  **Focus on Education:** Public health initiatives would focus on educating the public about the importance of vaccination for protecting themselves and others.\\n\\n**Challenges & Considerations:**\\n\\n*   **Implementation:** Translating these principles into concrete policies and practices would be a complex and challenging task.\\n*   **Cultural Context:** The specific application of these principles would need to be adapted to different cultural contexts.\\n*   **Power Dynamics:** Ensuring that all voices are heard and that marginalized groups are not disproportionately affected by restrictions on autonomy would require careful attention.\\n*   **Enforcement:**  Striking a balance between enforcing regulations and respecting individual liberties would be a constant challenge.\\n*   **Human Nature:** The framework relies on a degree of rationality, empathy, and willingness to cooperate, which may not always be present.\\n\\n**In Conclusion:**\\n\\nConcentric Flourishing is not a perfect solution, but it offers a framework for navigating the complex relationship between individual autonomy and societal well-being. By prioritizing both, fostering dialogue, and adapting to changing circumstances, it aims to create a society where individuals can flourish while contributing to the common good. It acknowledges that perfect balance is often unattainable, but striving for that balance is the key to a just and sustainable society.\\n\"]\n"
     ]
    }
   ],
   "source": [
    "print(compatitors)\n",
    "print(answers)"
   ]
  },
  {
   "cell_type": "code",
   "execution_count": 28,
   "metadata": {},
   "outputs": [
    {
     "name": "stdout",
     "output_type": "stream",
     "text": [
      "Compatitor: gpt-4o-mini\n",
      "  Designing a new moral framework that balances individual autonomy with societal well-being involves carefully considering principles that can harmonize personal rights with the collective interests of a community. Here are some key principles that could be included:\n",
      "\n",
      "### 1. **Informed Consent and Autonomy**\n",
      "   - **Principle**: Individuals have the right to make informed choices about their lives, provided they are aware of the consequences and their choices do not harm others.\n",
      "   - **Implementation**: Promote education and access to information so that individuals can make well-informed decisions.\n",
      "\n",
      "### 2. **Harm Principle**\n",
      "   - **Principle**: The actions of individuals should be limited only to prevent harm to others. Personal freedom is paramount as long as it does not infringe on the freedom and well-being of others.\n",
      "   - **Implementation**: Establish clear definitions of harm and implement systems to resolve disputes when harm is perceived, using mediation and dialogue.\n",
      "\n",
      "### 3. **Interdependence and Community Responsibility**\n",
      "   - **Principle**: Acknowledge that individuals are part of a larger community and that their actions can have wide-reaching impacts on societal well-being. Encourage a sense of responsibility to contribute positively to the community.\n",
      "   - **Implementation**: Foster communal activities and social programs that engage citizens in collective well-being while respecting individual autonomy.\n",
      "\n",
      "### 4. **Equity and Fairness**\n",
      "   - **Principle**: Ensure that all individuals have equal opportunities to exercise their rights and freedoms. Address systemic inequalities that might prevent some individuals from fully participating in society.\n",
      "   - **Implementation**: Create policies aimed at reducing disparities in education, healthcare, and economic opportunity, thus enabling fuller exercise of autonomy for all.\n",
      "\n",
      "### 5. **Minimization of Coercion**\n",
      "   - **Principle**: Minimize the use of coercion, and advocate for non-coercive methods to encourage compliance with societal norms and expectations. Individuals should be consulted and involved in the creation of rules affecting them.\n",
      "   - **Implementation**: Develop participatory governance structures that allow for input from diverse community members on laws and regulations.\n",
      "\n",
      "### 6. **Dynamic Balance of Rights and Responsibilities**\n",
      "   - **Principle**: Recognize that rights come with responsibilities; individuals should understand the implications of their choices on both themselves and the community.\n",
      "   - **Implementation**: Encourage civic education and discussion around the relationship between personal freedom and societal duties.\n",
      "\n",
      "### 7. **Ecological and Future Considerations**\n",
      "   - **Principle**: Individual choices should consider their impact on societal well-being and the environment, highlighting a responsibility not just to present society but to future generations.\n",
      "   - **Implementation**: Integrate sustainable practices into community decision-making, encouraging individuals to consider the long-term consequences of their actions.\n",
      "\n",
      "### Addressing Conflicts\n",
      "\n",
      "To address potential conflicts between personal freedom and the common good, the framework could employ the following strategies:\n",
      "\n",
      "1. **Dialogue and Deliberation**: Establish forums for community dialogue where individuals can discuss the implications of their choices, fostering understanding and compromise. This can help to reach consensus on action that respects both autonomy and collective welfare.\n",
      "\n",
      "2. **Mediation and Conflict Resolution**: Implement mediation processes for disputes that arise between individual and communal interests, allowing for collaborative solutions that satisfy both sides wherever possible.\n",
      "\n",
      "3. **Adaptive Policies**: Adopt flexible policies that can be revised in light of changing social conditions and needs, promoting accountability and responsiveness to emerging conflicts between autonomy and societal well-being.\n",
      "\n",
      "4. **Transparency and Accountability**: Encourage transparent decision-making processes that hold individuals and institutions accountable for their actions, fostering trust and cooperation within the community.\n",
      "\n",
      "5. **Empowerment Through Education**: Equip citizens with the skills necessary to navigate conflicts effectively, emphasizing critical thinking, negotiation, and respect for differing perspectives.\n",
      "\n",
      "By incorporating these principles and strategies, the proposed moral framework can work to create a society that respects individual autonomy while also prioritizing the common good, leading to a more harmonious and equitable coexistence. \n",
      "\n",
      "Compatitor: gemini-2.0-flash\n",
      "  Okay, this is a fascinating and complex thought experiment! Designing a new moral framework that balances individual autonomy and societal well-being is a significant undertaking, as these values can often clash. Here's my attempt, outlining the core principles and conflict-resolution mechanisms:\n",
      "\n",
      "**Name:**  *Concentric Flourishing* (This name reflects the idea of individual flourishing as a foundation that contributes to a wider, societal flourishing, like expanding ripples in a pond).\n",
      "\n",
      "**Core Principles:**\n",
      "\n",
      "1.  **Presumption of Autonomy:** Every individual is presumed to have the right to make their own choices, within reasonable limits.  This encompasses freedom of thought, expression, association, movement, and control over one's body and property. The burden of proof lies on those who seek to restrict this autonomy.  This principle is not absolute, but serves as a strong starting point.\n",
      "\n",
      "2.  **Universal Basic Dignity:**  Every individual is inherently worthy of respect and consideration, regardless of their background, beliefs, abilities, or contributions. This includes the right to basic necessities like food, shelter, healthcare, and education, which are considered fundamental for exercising autonomy.  This is not simply charity, but a recognition of inherent worth.\n",
      "\n",
      "3.  **Reciprocity & Responsibility:** Autonomy comes with the responsibility to consider the impact of one's actions on others and on the environment. This is not simply a negative duty not to harm, but a positive duty to contribute to the common good in a way that is proportionate to one's abilities and resources. This acknowledges that individual choices have collective consequences.\n",
      "\n",
      "4.  **Informed Consent & Transparency:**  Decisions affecting the collective should be made with maximum transparency and with the informed consent of those affected whenever possible. This includes access to accurate information, opportunities for deliberation, and mechanisms for participation in decision-making processes. This strengthens legitimacy and promotes trust.\n",
      "\n",
      "5.  **Sustainability & Stewardship:**  The current generation has a responsibility to safeguard the well-being of future generations and to protect the environment. This includes sustainable resource management, mitigating climate change, and preserving biodiversity. This extends the scope of moral consideration beyond the present.\n",
      "\n",
      "6.  **Cultivation of Empathy & Compassion:**  The framework encourages the development of empathy and compassion towards others, including those who are different from ourselves. This involves actively seeking to understand different perspectives, challenging prejudice and discrimination, and promoting a culture of inclusivity. This reinforces the bonds of community.\n",
      "\n",
      "7.  **Proportionality & Subsidiarity:** Any limitations on individual autonomy in the name of the common good must be proportionate to the threat posed and must be implemented at the lowest possible level of governance.  Centralized authority should only be invoked when necessary to address issues that cannot be effectively resolved at the local level. This minimizes unnecessary restrictions on freedom.\n",
      "\n",
      "8.  **Continuous Dialogue & Adaptation:** Moral frameworks should not be static. This framework promotes ongoing dialogue, critical reflection, and adaptation in light of new information and evolving societal needs. This ensures that the framework remains relevant and responsive to changing circumstances.\n",
      "\n",
      "**Addressing Conflicts Between Autonomy and the Common Good:**\n",
      "\n",
      "The inevitable conflicts between individual autonomy and societal well-being would be addressed through a multi-layered approach:\n",
      "\n",
      "1.  **Prioritization of Harm Prevention:**  When a clear and present danger to others is at stake, limitations on individual autonomy are justifiable, but only to the extent necessary to prevent the harm.  The burden of proof lies on those seeking to restrict freedom, and the restrictions must be narrowly tailored.\n",
      "\n",
      "2.  **Tiered Regulation:** Different activities would be subject to different levels of regulation, based on their potential impact on others.  For example, actions that pose a high risk of harm to others (e.g., polluting a river) would be subject to stricter regulation than actions that have minimal impact (e.g., choosing what to read).\n",
      "\n",
      "3.  **Community Engagement & Deliberation:**  When conflicts arise, open and inclusive dialogue would be essential.  This involves creating spaces for people to share their perspectives, to understand the concerns of others, and to work collaboratively towards solutions that respect both individual autonomy and the common good.  This could involve town hall meetings, online forums, or citizen assemblies.\n",
      "\n",
      "4.  **Compromise and Trade-offs:** Recognizing that there are often no easy answers, the framework acknowledges the need for compromise and trade-offs.  This involves finding solutions that strike a balance between competing values and that minimize harm to all parties involved.\n",
      "\n",
      "5.  **Restorative Justice:**  When harm occurs, the focus should be on repairing the damage and restoring relationships, rather than simply punishing offenders. This involves holding individuals accountable for their actions, while also providing opportunities for them to make amends and to reintegrate into the community.\n",
      "\n",
      "6.  **Legal & Constitutional Safeguards:**  Fundamental rights and freedoms would be enshrined in law and protected by an independent judiciary.  This would provide a check on government power and ensure that limitations on individual autonomy are subject to judicial review.\n",
      "\n",
      "**Example Scenario: Vaccine Mandates**\n",
      "\n",
      "Let's say a highly contagious disease is spreading.\n",
      "\n",
      "*   **Autonomy:** Individuals have a right to bodily autonomy and to make their own healthcare decisions.\n",
      "*   **Common Good:** A widespread outbreak threatens public health, straining resources and potentially leading to widespread illness and death.\n",
      "\n",
      "How would Concentric Flourishing address this?\n",
      "\n",
      "1.  **Transparency:**  Government provides clear, accurate, and accessible information about the disease, the vaccine, and the potential risks and benefits.\n",
      "2.  **Dialogue:**  Public forums are held to discuss concerns and address misinformation.\n",
      "3.  **Tiered Approach:**  A vaccine mandate might be considered for healthcare workers and other high-risk groups, while incentives (rather than mandates) are used for the general population.\n",
      "4.  **Exemptions:**  Medical and religious exemptions are granted, but are narrowly defined and subject to verification.\n",
      "5.  **Compensation:**  A system is established to compensate individuals who experience serious adverse reactions to the vaccine.\n",
      "6.  **Focus on Education:** Public health initiatives would focus on educating the public about the importance of vaccination for protecting themselves and others.\n",
      "\n",
      "**Challenges & Considerations:**\n",
      "\n",
      "*   **Implementation:** Translating these principles into concrete policies and practices would be a complex and challenging task.\n",
      "*   **Cultural Context:** The specific application of these principles would need to be adapted to different cultural contexts.\n",
      "*   **Power Dynamics:** Ensuring that all voices are heard and that marginalized groups are not disproportionately affected by restrictions on autonomy would require careful attention.\n",
      "*   **Enforcement:**  Striking a balance between enforcing regulations and respecting individual liberties would be a constant challenge.\n",
      "*   **Human Nature:** The framework relies on a degree of rationality, empathy, and willingness to cooperate, which may not always be present.\n",
      "\n",
      "**In Conclusion:**\n",
      "\n",
      "Concentric Flourishing is not a perfect solution, but it offers a framework for navigating the complex relationship between individual autonomy and societal well-being. By prioritizing both, fostering dialogue, and adapting to changing circumstances, it aims to create a society where individuals can flourish while contributing to the common good. It acknowledges that perfect balance is often unattainable, but striving for that balance is the key to a just and sustainable society.\n",
      " \n",
      "\n"
     ]
    }
   ],
   "source": [
    "for compatitor, answer in zip(compatitors, answers):\n",
    "    print(f\"Compatitor: {compatitor}\\n  {answer} \\n\")"
   ]
  },
  {
   "cell_type": "code",
   "execution_count": 29,
   "metadata": {},
   "outputs": [],
   "source": [
    "# Let's bring this together - note the use of \"enumerate\"\n",
    "\n",
    "together = \"\"\n",
    "for index, answer in enumerate(answers):\n",
    "    together += f\"# Response from competitor {index+1}\\n\\n\"\n",
    "    together += answer + \"\\n\\n\""
   ]
  },
  {
   "cell_type": "code",
   "execution_count": 31,
   "metadata": {},
   "outputs": [],
   "source": [
    "judge = f\"\"\"You are judging a competition between {len(compatitors)} competitors.\n",
    "Each model has been given this question:\n",
    "\n",
    "{question}\n",
    "\n",
    "Your job is to evaluate each response for clarity and strength of argument, and rank them in order of best to worst.\n",
    "Respond with JSON, and only JSON, with the following format:\n",
    "{{\"results\": [\"best competitor number\", \"second best competitor number\", \"third best competitor number\", ...]}}\n",
    "\n",
    "Here are the responses from each competitor:\n",
    "\n",
    "{together}\n",
    "\n",
    "Now respond with the JSON with the ranked order of the competitors, nothing else. Do not include markdown formatting or code blocks.\"\"\"\n"
   ]
  },
  {
   "cell_type": "code",
   "execution_count": 32,
   "metadata": {},
   "outputs": [
    {
     "name": "stdout",
     "output_type": "stream",
     "text": [
      "You are judging a competition between 2 competitors.\n",
      "Each model has been given this question:\n",
      "\n",
      "If you could design a new moral framework that prioritizes both individual autonomy and societal well-being, what principles would you include, and how would you address potential conflicts between personal freedom and the common good?\n",
      "\n",
      "Your job is to evaluate each response for clarity and strength of argument, and rank them in order of best to worst.\n",
      "Respond with JSON, and only JSON, with the following format:\n",
      "{\"results\": [\"best competitor number\", \"second best competitor number\", \"third best competitor number\", ...]}\n",
      "\n",
      "Here are the responses from each competitor:\n",
      "\n",
      "# Response from competitor 1\n",
      "\n",
      "Designing a new moral framework that balances individual autonomy with societal well-being involves carefully considering principles that can harmonize personal rights with the collective interests of a community. Here are some key principles that could be included:\n",
      "\n",
      "### 1. **Informed Consent and Autonomy**\n",
      "   - **Principle**: Individuals have the right to make informed choices about their lives, provided they are aware of the consequences and their choices do not harm others.\n",
      "   - **Implementation**: Promote education and access to information so that individuals can make well-informed decisions.\n",
      "\n",
      "### 2. **Harm Principle**\n",
      "   - **Principle**: The actions of individuals should be limited only to prevent harm to others. Personal freedom is paramount as long as it does not infringe on the freedom and well-being of others.\n",
      "   - **Implementation**: Establish clear definitions of harm and implement systems to resolve disputes when harm is perceived, using mediation and dialogue.\n",
      "\n",
      "### 3. **Interdependence and Community Responsibility**\n",
      "   - **Principle**: Acknowledge that individuals are part of a larger community and that their actions can have wide-reaching impacts on societal well-being. Encourage a sense of responsibility to contribute positively to the community.\n",
      "   - **Implementation**: Foster communal activities and social programs that engage citizens in collective well-being while respecting individual autonomy.\n",
      "\n",
      "### 4. **Equity and Fairness**\n",
      "   - **Principle**: Ensure that all individuals have equal opportunities to exercise their rights and freedoms. Address systemic inequalities that might prevent some individuals from fully participating in society.\n",
      "   - **Implementation**: Create policies aimed at reducing disparities in education, healthcare, and economic opportunity, thus enabling fuller exercise of autonomy for all.\n",
      "\n",
      "### 5. **Minimization of Coercion**\n",
      "   - **Principle**: Minimize the use of coercion, and advocate for non-coercive methods to encourage compliance with societal norms and expectations. Individuals should be consulted and involved in the creation of rules affecting them.\n",
      "   - **Implementation**: Develop participatory governance structures that allow for input from diverse community members on laws and regulations.\n",
      "\n",
      "### 6. **Dynamic Balance of Rights and Responsibilities**\n",
      "   - **Principle**: Recognize that rights come with responsibilities; individuals should understand the implications of their choices on both themselves and the community.\n",
      "   - **Implementation**: Encourage civic education and discussion around the relationship between personal freedom and societal duties.\n",
      "\n",
      "### 7. **Ecological and Future Considerations**\n",
      "   - **Principle**: Individual choices should consider their impact on societal well-being and the environment, highlighting a responsibility not just to present society but to future generations.\n",
      "   - **Implementation**: Integrate sustainable practices into community decision-making, encouraging individuals to consider the long-term consequences of their actions.\n",
      "\n",
      "### Addressing Conflicts\n",
      "\n",
      "To address potential conflicts between personal freedom and the common good, the framework could employ the following strategies:\n",
      "\n",
      "1. **Dialogue and Deliberation**: Establish forums for community dialogue where individuals can discuss the implications of their choices, fostering understanding and compromise. This can help to reach consensus on action that respects both autonomy and collective welfare.\n",
      "\n",
      "2. **Mediation and Conflict Resolution**: Implement mediation processes for disputes that arise between individual and communal interests, allowing for collaborative solutions that satisfy both sides wherever possible.\n",
      "\n",
      "3. **Adaptive Policies**: Adopt flexible policies that can be revised in light of changing social conditions and needs, promoting accountability and responsiveness to emerging conflicts between autonomy and societal well-being.\n",
      "\n",
      "4. **Transparency and Accountability**: Encourage transparent decision-making processes that hold individuals and institutions accountable for their actions, fostering trust and cooperation within the community.\n",
      "\n",
      "5. **Empowerment Through Education**: Equip citizens with the skills necessary to navigate conflicts effectively, emphasizing critical thinking, negotiation, and respect for differing perspectives.\n",
      "\n",
      "By incorporating these principles and strategies, the proposed moral framework can work to create a society that respects individual autonomy while also prioritizing the common good, leading to a more harmonious and equitable coexistence.\n",
      "\n",
      "# Response from competitor 2\n",
      "\n",
      "Okay, this is a fascinating and complex thought experiment! Designing a new moral framework that balances individual autonomy and societal well-being is a significant undertaking, as these values can often clash. Here's my attempt, outlining the core principles and conflict-resolution mechanisms:\n",
      "\n",
      "**Name:**  *Concentric Flourishing* (This name reflects the idea of individual flourishing as a foundation that contributes to a wider, societal flourishing, like expanding ripples in a pond).\n",
      "\n",
      "**Core Principles:**\n",
      "\n",
      "1.  **Presumption of Autonomy:** Every individual is presumed to have the right to make their own choices, within reasonable limits.  This encompasses freedom of thought, expression, association, movement, and control over one's body and property. The burden of proof lies on those who seek to restrict this autonomy.  This principle is not absolute, but serves as a strong starting point.\n",
      "\n",
      "2.  **Universal Basic Dignity:**  Every individual is inherently worthy of respect and consideration, regardless of their background, beliefs, abilities, or contributions. This includes the right to basic necessities like food, shelter, healthcare, and education, which are considered fundamental for exercising autonomy.  This is not simply charity, but a recognition of inherent worth.\n",
      "\n",
      "3.  **Reciprocity & Responsibility:** Autonomy comes with the responsibility to consider the impact of one's actions on others and on the environment. This is not simply a negative duty not to harm, but a positive duty to contribute to the common good in a way that is proportionate to one's abilities and resources. This acknowledges that individual choices have collective consequences.\n",
      "\n",
      "4.  **Informed Consent & Transparency:**  Decisions affecting the collective should be made with maximum transparency and with the informed consent of those affected whenever possible. This includes access to accurate information, opportunities for deliberation, and mechanisms for participation in decision-making processes. This strengthens legitimacy and promotes trust.\n",
      "\n",
      "5.  **Sustainability & Stewardship:**  The current generation has a responsibility to safeguard the well-being of future generations and to protect the environment. This includes sustainable resource management, mitigating climate change, and preserving biodiversity. This extends the scope of moral consideration beyond the present.\n",
      "\n",
      "6.  **Cultivation of Empathy & Compassion:**  The framework encourages the development of empathy and compassion towards others, including those who are different from ourselves. This involves actively seeking to understand different perspectives, challenging prejudice and discrimination, and promoting a culture of inclusivity. This reinforces the bonds of community.\n",
      "\n",
      "7.  **Proportionality & Subsidiarity:** Any limitations on individual autonomy in the name of the common good must be proportionate to the threat posed and must be implemented at the lowest possible level of governance.  Centralized authority should only be invoked when necessary to address issues that cannot be effectively resolved at the local level. This minimizes unnecessary restrictions on freedom.\n",
      "\n",
      "8.  **Continuous Dialogue & Adaptation:** Moral frameworks should not be static. This framework promotes ongoing dialogue, critical reflection, and adaptation in light of new information and evolving societal needs. This ensures that the framework remains relevant and responsive to changing circumstances.\n",
      "\n",
      "**Addressing Conflicts Between Autonomy and the Common Good:**\n",
      "\n",
      "The inevitable conflicts between individual autonomy and societal well-being would be addressed through a multi-layered approach:\n",
      "\n",
      "1.  **Prioritization of Harm Prevention:**  When a clear and present danger to others is at stake, limitations on individual autonomy are justifiable, but only to the extent necessary to prevent the harm.  The burden of proof lies on those seeking to restrict freedom, and the restrictions must be narrowly tailored.\n",
      "\n",
      "2.  **Tiered Regulation:** Different activities would be subject to different levels of regulation, based on their potential impact on others.  For example, actions that pose a high risk of harm to others (e.g., polluting a river) would be subject to stricter regulation than actions that have minimal impact (e.g., choosing what to read).\n",
      "\n",
      "3.  **Community Engagement & Deliberation:**  When conflicts arise, open and inclusive dialogue would be essential.  This involves creating spaces for people to share their perspectives, to understand the concerns of others, and to work collaboratively towards solutions that respect both individual autonomy and the common good.  This could involve town hall meetings, online forums, or citizen assemblies.\n",
      "\n",
      "4.  **Compromise and Trade-offs:** Recognizing that there are often no easy answers, the framework acknowledges the need for compromise and trade-offs.  This involves finding solutions that strike a balance between competing values and that minimize harm to all parties involved.\n",
      "\n",
      "5.  **Restorative Justice:**  When harm occurs, the focus should be on repairing the damage and restoring relationships, rather than simply punishing offenders. This involves holding individuals accountable for their actions, while also providing opportunities for them to make amends and to reintegrate into the community.\n",
      "\n",
      "6.  **Legal & Constitutional Safeguards:**  Fundamental rights and freedoms would be enshrined in law and protected by an independent judiciary.  This would provide a check on government power and ensure that limitations on individual autonomy are subject to judicial review.\n",
      "\n",
      "**Example Scenario: Vaccine Mandates**\n",
      "\n",
      "Let's say a highly contagious disease is spreading.\n",
      "\n",
      "*   **Autonomy:** Individuals have a right to bodily autonomy and to make their own healthcare decisions.\n",
      "*   **Common Good:** A widespread outbreak threatens public health, straining resources and potentially leading to widespread illness and death.\n",
      "\n",
      "How would Concentric Flourishing address this?\n",
      "\n",
      "1.  **Transparency:**  Government provides clear, accurate, and accessible information about the disease, the vaccine, and the potential risks and benefits.\n",
      "2.  **Dialogue:**  Public forums are held to discuss concerns and address misinformation.\n",
      "3.  **Tiered Approach:**  A vaccine mandate might be considered for healthcare workers and other high-risk groups, while incentives (rather than mandates) are used for the general population.\n",
      "4.  **Exemptions:**  Medical and religious exemptions are granted, but are narrowly defined and subject to verification.\n",
      "5.  **Compensation:**  A system is established to compensate individuals who experience serious adverse reactions to the vaccine.\n",
      "6.  **Focus on Education:** Public health initiatives would focus on educating the public about the importance of vaccination for protecting themselves and others.\n",
      "\n",
      "**Challenges & Considerations:**\n",
      "\n",
      "*   **Implementation:** Translating these principles into concrete policies and practices would be a complex and challenging task.\n",
      "*   **Cultural Context:** The specific application of these principles would need to be adapted to different cultural contexts.\n",
      "*   **Power Dynamics:** Ensuring that all voices are heard and that marginalized groups are not disproportionately affected by restrictions on autonomy would require careful attention.\n",
      "*   **Enforcement:**  Striking a balance between enforcing regulations and respecting individual liberties would be a constant challenge.\n",
      "*   **Human Nature:** The framework relies on a degree of rationality, empathy, and willingness to cooperate, which may not always be present.\n",
      "\n",
      "**In Conclusion:**\n",
      "\n",
      "Concentric Flourishing is not a perfect solution, but it offers a framework for navigating the complex relationship between individual autonomy and societal well-being. By prioritizing both, fostering dialogue, and adapting to changing circumstances, it aims to create a society where individuals can flourish while contributing to the common good. It acknowledges that perfect balance is often unattainable, but striving for that balance is the key to a just and sustainable society.\n",
      "\n",
      "\n",
      "\n",
      "\n",
      "Now respond with the JSON with the ranked order of the competitors, nothing else. Do not include markdown formatting or code blocks.\n"
     ]
    }
   ],
   "source": [
    "print(judge)"
   ]
  },
  {
   "cell_type": "code",
   "execution_count": 34,
   "metadata": {},
   "outputs": [],
   "source": [
    "judge_messages = [{\"role\":\"user\", \"content\":judge}]"
   ]
  },
  {
   "cell_type": "code",
   "execution_count": 36,
   "metadata": {},
   "outputs": [
    {
     "name": "stdout",
     "output_type": "stream",
     "text": [
      "{\"results\": [\"2\", \"1\"]}\n"
     ]
    }
   ],
   "source": [
    "openai = OpenAI()\n",
    "response = openai.chat.completions.create(\n",
    "    model=\"o3-mini\",\n",
    "    messages=judge_messages\n",
    ")\n",
    "result = response.choices[0].message.content\n",
    "print(result)"
   ]
  },
  {
   "cell_type": "code",
   "execution_count": 38,
   "metadata": {},
   "outputs": [
    {
     "name": "stdout",
     "output_type": "stream",
     "text": [
      "{'results': ['2', '1']}\n",
      "Rank 1: gemini-2.0-flash\n",
      "Rank 2: gpt-4o-mini\n"
     ]
    }
   ],
   "source": [
    "result_dict = json.loads(result)\n",
    "print(result_dict)\n",
    "ranks = result_dict[\"results\"]\n",
    "for index,rank in enumerate(ranks):\n",
    "    print(f\"Rank {index+1}: {compatitors[int(rank)-1]}\")\n",
    "    "
   ]
  },
  {
   "cell_type": "code",
   "execution_count": null,
   "metadata": {},
   "outputs": [],
   "source": []
  }
 ],
 "metadata": {
  "kernelspec": {
   "display_name": ".venv",
   "language": "python",
   "name": "python3"
  },
  "language_info": {
   "codemirror_mode": {
    "name": "ipython",
    "version": 3
   },
   "file_extension": ".py",
   "mimetype": "text/x-python",
   "name": "python",
   "nbconvert_exporter": "python",
   "pygments_lexer": "ipython3",
   "version": "3.12.11"
  }
 },
 "nbformat": 4,
 "nbformat_minor": 2
}
